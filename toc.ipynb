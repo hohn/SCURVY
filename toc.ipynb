{
 "cells": [
  {
   "cell_type": "code",
   "execution_count": 79,
   "id": "b60598ee",
   "metadata": {},
   "outputs": [],
   "source": [
    "import networkx as nx\n",
    "G = nx.DiGraph()"
   ]
  },
  {
   "cell_type": "code",
   "execution_count": 80,
   "id": "c1b1e566",
   "metadata": {},
   "outputs": [],
   "source": [
    "    G.add_node(\"cpp_ldf-303\", title = \"Dataflow III\")\n",
    "    G.add_node(\"cpp_ldf-303\", title = \"Reasoning about Integer Sign Conversion\")\n",
    "    G.add_node(\"cpp_ldf-302\", title = \"Program Analysis III\")\n",
    "    G.add_node(\"cpp_ldf-401\", title = \"Program Analysis IV -- Dangling pointers\")\n",
    "    G.add_node(\"cpp_ldf-403\", title = \"Dataflow IV -- Reasoning about Runtime Values\")\n",
    "    G.add_node(\"cpp_ldf-203\", title = \"Dataflow II\")\n",
    "    G.add_node(\"cpp_ldf-303\", title = \"Dataflow III\")\n",
    "    G.add_node(\"cpp_ldf-202\", title = \"Reasoning about Control Flow II\")\n",
    "    G.add_node(\"cpp_ldf-201\", title = \"Elements of Syntactical Program Analysis II\")\n",
    "    G.add_node(\"cpp_ldf-103\", title = \"Dataflow I\")\n",
    "    G.add_node(\"cpp_ldf-102\", title = \"Reasoning about Control Flow I\")\n",
    "    G.add_node(\"cpp_ldf-101\", title = \"Elements of Syntactical Program Analysis I\")\n"
   ]
  },
  {
   "cell_type": "code",
   "execution_count": 81,
   "id": "1cd987bb",
   "metadata": {},
   "outputs": [],
   "source": [
    "pos = nx.nx_agraph.graphviz_layout(G, prog=\"dot\")"
   ]
  },
  {
   "cell_type": "code",
   "execution_count": 82,
   "id": "e707729e",
   "metadata": {},
   "outputs": [],
   "source": [
    "# set defaults\n",
    "G.graph['graph']={'rankdir':'TD', 'fontsize':9}\n",
    "G.graph['node']={'shape':'rect', 'fontsize':9}\n",
    "G.graph['edges']={'arrowsize':'4.0', 'fontsize':9}"
   ]
  },
  {
   "cell_type": "code",
   "execution_count": 83,
   "id": "d3e97e39",
   "metadata": {},
   "outputs": [],
   "source": [
    "G.add_edge(\"cpp_ldf-101\", \"cpp_ldf-102\")\n",
    "G.add_edge(\"cpp_ldf-101\", \"cpp_ldf-103\")\n",
    "G.add_edge(\"cpp_ldf-101\", \"cpp_ldf-201\")\n",
    "G.add_edge(\"cpp_ldf-102\", \"cpp_ldf-202\")\n",
    "G.add_edge(\"cpp_ldf-103\", \"cpp_ldf-203\")\n",
    "G.add_edge(\"cpp_ldf-203\", \"cpp_ldf-303\")\n",
    "G.add_edge(\"cpp_ldf-303\", \"cpp_ldf-403\")\n",
    "G.add_edge(\"cpp_ldf-201\", \"cpp_ldf-302\")\n",
    "G.add_edge(\"cpp_ldf-202\", \"cpp_ldf-302\")\n",
    "G.add_edge(\"cpp_ldf-203\", \"cpp_ldf-303\")\n",
    "G.add_edge(\"cpp_ldf-302\", \"cpp_ldf-401\")\n",
    "G.add_edge(\"cpp_ldf-303\", \"cpp_ldf-401\")"
   ]
  },
  {
   "cell_type": "code",
   "execution_count": 84,
   "id": "e041f3dc",
   "metadata": {
    "scrolled": false
   },
   "outputs": [
    {
     "data": {
      "image/svg+xml": [
       "<svg xmlns=\"http://www.w3.org/2000/svg\" xmlns:xlink=\"http://www.w3.org/1999/xlink\" width=\"224pt\" height=\"332pt\" viewBox=\"0.00 0.00 223.50 332.00\">\n",
       "<g id=\"graph0\" class=\"graph\" transform=\"scale(1 1) rotate(0) translate(4 328)\">\n",
       "<polygon fill=\"white\" stroke=\"none\" points=\"-4,4 -4,-328 219.5,-328 219.5,4 -4,4\"/>\n",
       "<!-- cpp_ldf&#45;303 -->\n",
       "<g id=\"node1\" class=\"node\">\n",
       "<title>cpp_ldf-303</title>\n",
       "<polygon fill=\"none\" stroke=\"black\" points=\"215.5,-108 156,-108 156,-72 215.5,-72 215.5,-108\"/>\n",
       "<text text-anchor=\"middle\" x=\"185.75\" y=\"-86.7\" font-family=\"Times,serif\" font-size=\"9.00\">cpp_ldf-303</text>\n",
       "</g>\n",
       "<!-- cpp_ldf&#45;401 -->\n",
       "<g id=\"node2\" class=\"node\">\n",
       "<title>cpp_ldf-401</title>\n",
       "<polygon fill=\"none\" stroke=\"black\" points=\"137.5,-36 78,-36 78,0 137.5,0 137.5,-36\"/>\n",
       "<text text-anchor=\"middle\" x=\"107.75\" y=\"-14.7\" font-family=\"Times,serif\" font-size=\"9.00\">cpp_ldf-401</text>\n",
       "</g>\n",
       "<!-- cpp_ldf&#45;303&#45;&gt;cpp_ldf&#45;401 -->\n",
       "<g id=\"edge1\" class=\"edge\">\n",
       "<title>cpp_ldf-303-&gt;cpp_ldf-401</title>\n",
       "<path fill=\"none\" stroke=\"black\" d=\"M166.47,-71.7C157,-63.2 145.43,-52.81 135.07,-43.51\"/>\n",
       "<polygon fill=\"black\" stroke=\"black\" points=\"137.86,-41.42 128.08,-37.35 133.18,-46.63 137.86,-41.42\"/>\n",
       "</g>\n",
       "<!-- cpp_ldf&#45;403 -->\n",
       "<g id=\"node3\" class=\"node\">\n",
       "<title>cpp_ldf-403</title>\n",
       "<polygon fill=\"none\" stroke=\"black\" points=\"215.5,-36 156,-36 156,0 215.5,0 215.5,-36\"/>\n",
       "<text text-anchor=\"middle\" x=\"185.75\" y=\"-14.7\" font-family=\"Times,serif\" font-size=\"9.00\">cpp_ldf-403</text>\n",
       "</g>\n",
       "<!-- cpp_ldf&#45;303&#45;&gt;cpp_ldf&#45;403 -->\n",
       "<g id=\"edge2\" class=\"edge\">\n",
       "<title>cpp_ldf-303-&gt;cpp_ldf-403</title>\n",
       "<path fill=\"none\" stroke=\"black\" d=\"M185.75,-71.7C185.75,-64.24 185.75,-55.32 185.75,-46.97\"/>\n",
       "<polygon fill=\"black\" stroke=\"black\" points=\"189.25,-47.1 185.75,-37.1 182.25,-47.1 189.25,-47.1\"/>\n",
       "</g>\n",
       "<!-- cpp_ldf&#45;302 -->\n",
       "<g id=\"node4\" class=\"node\">\n",
       "<title>cpp_ldf-302</title>\n",
       "<polygon fill=\"none\" stroke=\"black\" points=\"137.5,-108 78,-108 78,-72 137.5,-72 137.5,-108\"/>\n",
       "<text text-anchor=\"middle\" x=\"107.75\" y=\"-86.7\" font-family=\"Times,serif\" font-size=\"9.00\">cpp_ldf-302</text>\n",
       "</g>\n",
       "<!-- cpp_ldf&#45;302&#45;&gt;cpp_ldf&#45;401 -->\n",
       "<g id=\"edge3\" class=\"edge\">\n",
       "<title>cpp_ldf-302-&gt;cpp_ldf-401</title>\n",
       "<path fill=\"none\" stroke=\"black\" d=\"M107.75,-71.7C107.75,-64.24 107.75,-55.32 107.75,-46.97\"/>\n",
       "<polygon fill=\"black\" stroke=\"black\" points=\"111.25,-47.1 107.75,-37.1 104.25,-47.1 111.25,-47.1\"/>\n",
       "</g>\n",
       "<!-- cpp_ldf&#45;203 -->\n",
       "<g id=\"node5\" class=\"node\">\n",
       "<title>cpp_ldf-203</title>\n",
       "<polygon fill=\"none\" stroke=\"black\" points=\"215.5,-180 156,-180 156,-144 215.5,-144 215.5,-180\"/>\n",
       "<text text-anchor=\"middle\" x=\"185.75\" y=\"-158.7\" font-family=\"Times,serif\" font-size=\"9.00\">cpp_ldf-203</text>\n",
       "</g>\n",
       "<!-- cpp_ldf&#45;203&#45;&gt;cpp_ldf&#45;303 -->\n",
       "<g id=\"edge4\" class=\"edge\">\n",
       "<title>cpp_ldf-203-&gt;cpp_ldf-303</title>\n",
       "<path fill=\"none\" stroke=\"black\" d=\"M185.75,-143.7C185.75,-136.24 185.75,-127.32 185.75,-118.97\"/>\n",
       "<polygon fill=\"black\" stroke=\"black\" points=\"189.25,-119.1 185.75,-109.1 182.25,-119.1 189.25,-119.1\"/>\n",
       "</g>\n",
       "<!-- cpp_ldf&#45;202 -->\n",
       "<g id=\"node6\" class=\"node\">\n",
       "<title>cpp_ldf-202</title>\n",
       "<polygon fill=\"none\" stroke=\"black\" points=\"137.5,-180 78,-180 78,-144 137.5,-144 137.5,-180\"/>\n",
       "<text text-anchor=\"middle\" x=\"107.75\" y=\"-158.7\" font-family=\"Times,serif\" font-size=\"9.00\">cpp_ldf-202</text>\n",
       "</g>\n",
       "<!-- cpp_ldf&#45;202&#45;&gt;cpp_ldf&#45;302 -->\n",
       "<g id=\"edge5\" class=\"edge\">\n",
       "<title>cpp_ldf-202-&gt;cpp_ldf-302</title>\n",
       "<path fill=\"none\" stroke=\"black\" d=\"M107.75,-143.7C107.75,-136.24 107.75,-127.32 107.75,-118.97\"/>\n",
       "<polygon fill=\"black\" stroke=\"black\" points=\"111.25,-119.1 107.75,-109.1 104.25,-119.1 111.25,-119.1\"/>\n",
       "</g>\n",
       "<!-- cpp_ldf&#45;201 -->\n",
       "<g id=\"node7\" class=\"node\">\n",
       "<title>cpp_ldf-201</title>\n",
       "<polygon fill=\"none\" stroke=\"black\" points=\"59.5,-180 0,-180 0,-144 59.5,-144 59.5,-180\"/>\n",
       "<text text-anchor=\"middle\" x=\"29.75\" y=\"-158.7\" font-family=\"Times,serif\" font-size=\"9.00\">cpp_ldf-201</text>\n",
       "</g>\n",
       "<!-- cpp_ldf&#45;201&#45;&gt;cpp_ldf&#45;302 -->\n",
       "<g id=\"edge6\" class=\"edge\">\n",
       "<title>cpp_ldf-201-&gt;cpp_ldf-302</title>\n",
       "<path fill=\"none\" stroke=\"black\" d=\"M49.03,-143.7C58.5,-135.2 70.07,-124.81 80.43,-115.51\"/>\n",
       "<polygon fill=\"black\" stroke=\"black\" points=\"82.32,-118.63 87.42,-109.35 77.64,-113.42 82.32,-118.63\"/>\n",
       "</g>\n",
       "<!-- cpp_ldf&#45;103 -->\n",
       "<g id=\"node8\" class=\"node\">\n",
       "<title>cpp_ldf-103</title>\n",
       "<polygon fill=\"none\" stroke=\"black\" points=\"215.5,-252 156,-252 156,-216 215.5,-216 215.5,-252\"/>\n",
       "<text text-anchor=\"middle\" x=\"185.75\" y=\"-230.7\" font-family=\"Times,serif\" font-size=\"9.00\">cpp_ldf-103</text>\n",
       "</g>\n",
       "<!-- cpp_ldf&#45;103&#45;&gt;cpp_ldf&#45;203 -->\n",
       "<g id=\"edge7\" class=\"edge\">\n",
       "<title>cpp_ldf-103-&gt;cpp_ldf-203</title>\n",
       "<path fill=\"none\" stroke=\"black\" d=\"M185.75,-215.7C185.75,-208.24 185.75,-199.32 185.75,-190.97\"/>\n",
       "<polygon fill=\"black\" stroke=\"black\" points=\"189.25,-191.1 185.75,-181.1 182.25,-191.1 189.25,-191.1\"/>\n",
       "</g>\n",
       "<!-- cpp_ldf&#45;102 -->\n",
       "<g id=\"node9\" class=\"node\">\n",
       "<title>cpp_ldf-102</title>\n",
       "<polygon fill=\"none\" stroke=\"black\" points=\"137.5,-252 78,-252 78,-216 137.5,-216 137.5,-252\"/>\n",
       "<text text-anchor=\"middle\" x=\"107.75\" y=\"-230.7\" font-family=\"Times,serif\" font-size=\"9.00\">cpp_ldf-102</text>\n",
       "</g>\n",
       "<!-- cpp_ldf&#45;102&#45;&gt;cpp_ldf&#45;202 -->\n",
       "<g id=\"edge8\" class=\"edge\">\n",
       "<title>cpp_ldf-102-&gt;cpp_ldf-202</title>\n",
       "<path fill=\"none\" stroke=\"black\" d=\"M107.75,-215.7C107.75,-208.24 107.75,-199.32 107.75,-190.97\"/>\n",
       "<polygon fill=\"black\" stroke=\"black\" points=\"111.25,-191.1 107.75,-181.1 104.25,-191.1 111.25,-191.1\"/>\n",
       "</g>\n",
       "<!-- cpp_ldf&#45;101 -->\n",
       "<g id=\"node10\" class=\"node\">\n",
       "<title>cpp_ldf-101</title>\n",
       "<polygon fill=\"none\" stroke=\"black\" points=\"137.5,-324 78,-324 78,-288 137.5,-288 137.5,-324\"/>\n",
       "<text text-anchor=\"middle\" x=\"107.75\" y=\"-302.7\" font-family=\"Times,serif\" font-size=\"9.00\">cpp_ldf-101</text>\n",
       "</g>\n",
       "<!-- cpp_ldf&#45;101&#45;&gt;cpp_ldf&#45;201 -->\n",
       "<g id=\"edge9\" class=\"edge\">\n",
       "<title>cpp_ldf-101-&gt;cpp_ldf-201</title>\n",
       "<path fill=\"none\" stroke=\"black\" d=\"M93.36,-287.52C85.51,-277.5 75.95,-264.47 68.75,-252 57.31,-232.19 47.04,-208.39 39.92,-190.39\"/>\n",
       "<polygon fill=\"black\" stroke=\"black\" points=\"42.88,-189.34 36.01,-181.28 36.35,-191.86 42.88,-189.34\"/>\n",
       "</g>\n",
       "<!-- cpp_ldf&#45;101&#45;&gt;cpp_ldf&#45;103 -->\n",
       "<g id=\"edge10\" class=\"edge\">\n",
       "<title>cpp_ldf-101-&gt;cpp_ldf-103</title>\n",
       "<path fill=\"none\" stroke=\"black\" d=\"M127.03,-287.7C136.5,-279.2 148.07,-268.81 158.43,-259.51\"/>\n",
       "<polygon fill=\"black\" stroke=\"black\" points=\"160.32,-262.63 165.42,-253.35 155.64,-257.42 160.32,-262.63\"/>\n",
       "</g>\n",
       "<!-- cpp_ldf&#45;101&#45;&gt;cpp_ldf&#45;102 -->\n",
       "<g id=\"edge11\" class=\"edge\">\n",
       "<title>cpp_ldf-101-&gt;cpp_ldf-102</title>\n",
       "<path fill=\"none\" stroke=\"black\" d=\"M107.75,-287.7C107.75,-280.24 107.75,-271.32 107.75,-262.97\"/>\n",
       "<polygon fill=\"black\" stroke=\"black\" points=\"111.25,-263.1 107.75,-253.1 104.25,-263.1 111.25,-263.1\"/>\n",
       "</g>\n",
       "</g>\n",
       "</svg>"
      ],
      "text/plain": [
       "<IPython.core.display.SVG object>"
      ]
     },
     "metadata": {},
     "output_type": "display_data"
    }
   ],
   "source": [
    "from IPython.display import SVG, display\n",
    "\n",
    "def draw(graph):\n",
    "    svg = nx.nx_agraph.to_agraph(graph).draw(prog='dot',format='svg')\n",
    "    display(SVG(svg))\n",
    "    \n",
    "draw(G)"
   ]
  },
  {
   "cell_type": "code",
   "execution_count": 85,
   "id": "7db4bdca",
   "metadata": {
    "scrolled": false
   },
   "outputs": [
    {
     "data": {
      "image/svg+xml": [
       "<svg xmlns=\"http://www.w3.org/2000/svg\" xmlns:xlink=\"http://www.w3.org/1999/xlink\" width=\"514pt\" height=\"332pt\" viewBox=\"0.00 0.00 514.25 332.00\">\n",
       "<g id=\"graph0\" class=\"graph\" transform=\"scale(1 1) rotate(0) translate(4 328)\">\n",
       "<polygon fill=\"white\" stroke=\"none\" points=\"-4,4 -4,-328 510.25,-328 510.25,4 -4,4\"/>\n",
       "<!-- Dataflow III -->\n",
       "<g id=\"node1\" class=\"node\">\n",
       "<title>Dataflow III</title>\n",
       "<polygon fill=\"none\" stroke=\"black\" points=\"401.5,-108 341.25,-108 341.25,-72 401.5,-72 401.5,-108\"/>\n",
       "<text text-anchor=\"middle\" x=\"371.38\" y=\"-86.7\" font-family=\"Times,serif\" font-size=\"9.00\">Dataflow III</text>\n",
       "</g>\n",
       "<!-- Program Analysis IV &#45;&#45; Dangling pointers -->\n",
       "<g id=\"node2\" class=\"node\">\n",
       "<title>Program Analysis IV -- Dangling pointers</title>\n",
       "<polygon fill=\"none\" stroke=\"black\" points=\"300,-36 134.75,-36 134.75,0 300,0 300,-36\"/>\n",
       "<text text-anchor=\"middle\" x=\"217.38\" y=\"-14.7\" font-family=\"Times,serif\" font-size=\"9.00\">Program Analysis IV -- Dangling pointers</text>\n",
       "</g>\n",
       "<!-- Dataflow III&#45;&gt;Program Analysis IV &#45;&#45; Dangling pointers -->\n",
       "<g id=\"edge1\" class=\"edge\">\n",
       "<title>Dataflow III-&gt;Program Analysis IV -- Dangling pointers</title>\n",
       "<path fill=\"none\" stroke=\"black\" d=\"M340.95,-75.17C319.45,-65.4 290.2,-52.1 265.56,-40.9\"/>\n",
       "<polygon fill=\"black\" stroke=\"black\" points=\"267.22,-37.36 256.66,-36.4 264.32,-43.73 267.22,-37.36\"/>\n",
       "</g>\n",
       "<!-- Dataflow IV &#45;&#45; Reasoning about Runtime Values -->\n",
       "<g id=\"node3\" class=\"node\">\n",
       "<title>Dataflow IV -- Reasoning about Runtime Values</title>\n",
       "<polygon fill=\"none\" stroke=\"black\" points=\"506.25,-36 318.5,-36 318.5,0 506.25,0 506.25,-36\"/>\n",
       "<text text-anchor=\"middle\" x=\"412.38\" y=\"-14.7\" font-family=\"Times,serif\" font-size=\"9.00\">Dataflow IV -- Reasoning about Runtime Values</text>\n",
       "</g>\n",
       "<!-- Dataflow III&#45;&gt;Dataflow IV &#45;&#45; Reasoning about Runtime Values -->\n",
       "<g id=\"edge2\" class=\"edge\">\n",
       "<title>Dataflow III-&gt;Dataflow IV -- Reasoning about Runtime Values</title>\n",
       "<path fill=\"none\" stroke=\"black\" d=\"M381.51,-71.7C386.13,-63.81 391.7,-54.3 396.83,-45.55\"/>\n",
       "<polygon fill=\"black\" stroke=\"black\" points=\"400.32,-47.5 402.36,-37.1 394.28,-43.96 400.32,-47.5\"/>\n",
       "</g>\n",
       "<!-- Program Analysis III -->\n",
       "<g id=\"node4\" class=\"node\">\n",
       "<title>Program Analysis III</title>\n",
       "<polygon fill=\"none\" stroke=\"black\" points=\"262.88,-108 171.88,-108 171.88,-72 262.88,-72 262.88,-108\"/>\n",
       "<text text-anchor=\"middle\" x=\"217.38\" y=\"-86.7\" font-family=\"Times,serif\" font-size=\"9.00\">Program Analysis III</text>\n",
       "</g>\n",
       "<!-- Program Analysis III&#45;&gt;Program Analysis IV &#45;&#45; Dangling pointers -->\n",
       "<g id=\"edge3\" class=\"edge\">\n",
       "<title>Program Analysis III-&gt;Program Analysis IV -- Dangling pointers</title>\n",
       "<path fill=\"none\" stroke=\"black\" d=\"M217.38,-71.7C217.38,-64.24 217.38,-55.32 217.38,-46.97\"/>\n",
       "<polygon fill=\"black\" stroke=\"black\" points=\"220.88,-47.1 217.38,-37.1 213.88,-47.1 220.88,-47.1\"/>\n",
       "</g>\n",
       "<!-- Dataflow II -->\n",
       "<g id=\"node5\" class=\"node\">\n",
       "<title>Dataflow II</title>\n",
       "<polygon fill=\"none\" stroke=\"black\" points=\"400,-180 342.75,-180 342.75,-144 400,-144 400,-180\"/>\n",
       "<text text-anchor=\"middle\" x=\"371.38\" y=\"-158.7\" font-family=\"Times,serif\" font-size=\"9.00\">Dataflow II</text>\n",
       "</g>\n",
       "<!-- Dataflow II&#45;&gt;Dataflow III -->\n",
       "<g id=\"edge4\" class=\"edge\">\n",
       "<title>Dataflow II-&gt;Dataflow III</title>\n",
       "<path fill=\"none\" stroke=\"black\" d=\"M371.38,-143.7C371.38,-136.24 371.38,-127.32 371.38,-118.97\"/>\n",
       "<polygon fill=\"black\" stroke=\"black\" points=\"374.88,-119.1 371.38,-109.1 367.88,-119.1 374.88,-119.1\"/>\n",
       "</g>\n",
       "<!-- Reasoning about Control Flow II -->\n",
       "<g id=\"node6\" class=\"node\">\n",
       "<title>Reasoning about Control Flow II</title>\n",
       "<polygon fill=\"none\" stroke=\"black\" points=\"324.25,-180 190.5,-180 190.5,-144 324.25,-144 324.25,-180\"/>\n",
       "<text text-anchor=\"middle\" x=\"257.38\" y=\"-158.7\" font-family=\"Times,serif\" font-size=\"9.00\">Reasoning about Control Flow II</text>\n",
       "</g>\n",
       "<!-- Reasoning about Control Flow II&#45;&gt;Program Analysis III -->\n",
       "<g id=\"edge5\" class=\"edge\">\n",
       "<title>Reasoning about Control Flow II-&gt;Program Analysis III</title>\n",
       "<path fill=\"none\" stroke=\"black\" d=\"M247.49,-143.7C242.98,-135.81 237.55,-126.3 232.54,-117.55\"/>\n",
       "<polygon fill=\"black\" stroke=\"black\" points=\"235.15,-116.05 227.15,-109.1 229.07,-119.52 235.15,-116.05\"/>\n",
       "</g>\n",
       "<!-- Elements of Syntactical Program Analysis II -->\n",
       "<g id=\"node7\" class=\"node\">\n",
       "<title>Elements of Syntactical Program Analysis II</title>\n",
       "<polygon fill=\"none\" stroke=\"black\" points=\"172.75,-180 0,-180 0,-144 172.75,-144 172.75,-180\"/>\n",
       "<text text-anchor=\"middle\" x=\"86.38\" y=\"-158.7\" font-family=\"Times,serif\" font-size=\"9.00\">Elements of Syntactical Program Analysis II</text>\n",
       "</g>\n",
       "<!-- Elements of Syntactical Program Analysis II&#45;&gt;Program Analysis III -->\n",
       "<g id=\"edge6\" class=\"edge\">\n",
       "<title>Elements of Syntactical Program Analysis II-&gt;Program Analysis III</title>\n",
       "<path fill=\"none\" stroke=\"black\" d=\"M119.09,-143.52C136.18,-134.39 157.28,-123.11 175.54,-113.35\"/>\n",
       "<polygon fill=\"black\" stroke=\"black\" points=\"176.9,-116.06 184.07,-108.26 173.6,-109.89 176.9,-116.06\"/>\n",
       "</g>\n",
       "<!-- Dataflow I -->\n",
       "<g id=\"node8\" class=\"node\">\n",
       "<title>Dataflow I</title>\n",
       "<polygon fill=\"none\" stroke=\"black\" points=\"396.5,-252 342.25,-252 342.25,-216 396.5,-216 396.5,-252\"/>\n",
       "<text text-anchor=\"middle\" x=\"369.38\" y=\"-230.7\" font-family=\"Times,serif\" font-size=\"9.00\">Dataflow I</text>\n",
       "</g>\n",
       "<!-- Dataflow I&#45;&gt;Dataflow II -->\n",
       "<g id=\"edge7\" class=\"edge\">\n",
       "<title>Dataflow I-&gt;Dataflow II</title>\n",
       "<path fill=\"none\" stroke=\"black\" d=\"M369.87,-215.7C370.08,-208.24 370.34,-199.32 370.58,-190.97\"/>\n",
       "<polygon fill=\"black\" stroke=\"black\" points=\"374.1,-191.2 370.89,-181.1 367.1,-191 374.1,-191.2\"/>\n",
       "</g>\n",
       "<!-- Reasoning about Control Flow I -->\n",
       "<g id=\"node9\" class=\"node\">\n",
       "<title>Reasoning about Control Flow I</title>\n",
       "<polygon fill=\"none\" stroke=\"black\" points=\"322.75,-252 192,-252 192,-216 322.75,-216 322.75,-252\"/>\n",
       "<text text-anchor=\"middle\" x=\"257.38\" y=\"-230.7\" font-family=\"Times,serif\" font-size=\"9.00\">Reasoning about Control Flow I</text>\n",
       "</g>\n",
       "<!-- Reasoning about Control Flow I&#45;&gt;Reasoning about Control Flow II -->\n",
       "<g id=\"edge8\" class=\"edge\">\n",
       "<title>Reasoning about Control Flow I-&gt;Reasoning about Control Flow II</title>\n",
       "<path fill=\"none\" stroke=\"black\" d=\"M257.38,-215.7C257.38,-208.24 257.38,-199.32 257.38,-190.97\"/>\n",
       "<polygon fill=\"black\" stroke=\"black\" points=\"260.88,-191.1 257.38,-181.1 253.88,-191.1 260.88,-191.1\"/>\n",
       "</g>\n",
       "<!-- Elements of Syntactical Program Analysis I -->\n",
       "<g id=\"node10\" class=\"node\">\n",
       "<title>Elements of Syntactical Program Analysis I</title>\n",
       "<polygon fill=\"none\" stroke=\"black\" points=\"342.25,-324 172.5,-324 172.5,-288 342.25,-288 342.25,-324\"/>\n",
       "<text text-anchor=\"middle\" x=\"257.38\" y=\"-302.7\" font-family=\"Times,serif\" font-size=\"9.00\">Elements of Syntactical Program Analysis I</text>\n",
       "</g>\n",
       "<!-- Elements of Syntactical Program Analysis I&#45;&gt;Elements of Syntactical Program Analysis II -->\n",
       "<g id=\"edge9\" class=\"edge\">\n",
       "<title>Elements of Syntactical Program Analysis I-&gt;Elements of Syntactical Program Analysis II</title>\n",
       "<path fill=\"none\" stroke=\"black\" d=\"M231.47,-287.59C217,-277.59 198.83,-264.55 183.38,-252 158.07,-231.45 130.85,-206.18 111.71,-187.82\"/>\n",
       "<polygon fill=\"black\" stroke=\"black\" points=\"114.65,-185.83 105.03,-181.41 109.79,-190.87 114.65,-185.83\"/>\n",
       "</g>\n",
       "<!-- Elements of Syntactical Program Analysis I&#45;&gt;Dataflow I -->\n",
       "<g id=\"edge10\" class=\"edge\">\n",
       "<title>Elements of Syntactical Program Analysis I-&gt;Dataflow I</title>\n",
       "<path fill=\"none\" stroke=\"black\" d=\"M285.35,-287.52C299.62,-278.6 317.17,-267.63 332.53,-258.03\"/>\n",
       "<polygon fill=\"black\" stroke=\"black\" points=\"334.13,-260.53 340.76,-252.26 330.42,-254.59 334.13,-260.53\"/>\n",
       "</g>\n",
       "<!-- Elements of Syntactical Program Analysis I&#45;&gt;Reasoning about Control Flow I -->\n",
       "<g id=\"edge11\" class=\"edge\">\n",
       "<title>Elements of Syntactical Program Analysis I-&gt;Reasoning about Control Flow I</title>\n",
       "<path fill=\"none\" stroke=\"black\" d=\"M257.38,-287.7C257.38,-280.24 257.38,-271.32 257.38,-262.97\"/>\n",
       "<polygon fill=\"black\" stroke=\"black\" points=\"260.88,-263.1 257.38,-253.1 253.88,-263.1 260.88,-263.1\"/>\n",
       "</g>\n",
       "</g>\n",
       "</svg>"
      ],
      "text/plain": [
       "<IPython.core.display.SVG object>"
      ]
     },
     "metadata": {},
     "output_type": "display_data"
    }
   ],
   "source": [
    "r = dict([name, dd['title']] for (name, dd) in list(G.nodes.items()))\n",
    "G1 = nx.relabel_nodes(G, r)\n",
    "draw(G1)"
   ]
  },
  {
   "cell_type": "code",
   "execution_count": 86,
   "id": "b5462d5d",
   "metadata": {
    "scrolled": false
   },
   "outputs": [
    {
     "name": "stdout",
     "output_type": "stream",
     "text": [
      "Local cdn resources have problems on chrome/safari when used in jupyter-notebook. \n"
     ]
    },
    {
     "data": {
      "text/html": [
       "\n",
       "        <iframe\n",
       "            width=\"100%\"\n",
       "            height=\"600px\"\n",
       "            src=\"G.html\"\n",
       "            frameborder=\"0\"\n",
       "            allowfullscreen\n",
       "            \n",
       "        ></iframe>\n",
       "        "
      ],
      "text/plain": [
       "<IPython.lib.display.IFrame at 0x10c90b250>"
      ]
     },
     "execution_count": 86,
     "metadata": {},
     "output_type": "execute_result"
    }
   ],
   "source": [
    "from pyvis import network as net\n",
    "\n",
    "pg = net.Network(directed=True, notebook=True)\n",
    "\n",
    "pg.from_nx(G)\n",
    "\n",
    "pg.show(\"G.html\")"
   ]
  },
  {
   "cell_type": "code",
   "execution_count": 87,
   "id": "7f6b04e9",
   "metadata": {},
   "outputs": [
    {
     "name": "stdout",
     "output_type": "stream",
     "text": [
      "Local cdn resources have problems on chrome/safari when used in jupyter-notebook. \n"
     ]
    },
    {
     "data": {
      "text/html": [
       "\n",
       "        <iframe\n",
       "            width=\"100%\"\n",
       "            height=\"600px\"\n",
       "            src=\"G.html\"\n",
       "            frameborder=\"0\"\n",
       "            allowfullscreen\n",
       "            \n",
       "        ></iframe>\n",
       "        "
      ],
      "text/plain": [
       "<IPython.lib.display.IFrame at 0x10c8c0d90>"
      ]
     },
     "execution_count": 87,
     "metadata": {},
     "output_type": "execute_result"
    }
   ],
   "source": [
    "pg1 = net.Network(directed=True, notebook=True)\n",
    "\n",
    "pg1.from_nx(G1)\n",
    "\n",
    "pg1.show(\"G.html\")"
   ]
  },
  {
   "cell_type": "code",
   "execution_count": 88,
   "id": "2e3a4d9c",
   "metadata": {},
   "outputs": [
    {
     "data": {
      "text/plain": [
       "'cpp_ldf-303'"
      ]
     },
     "execution_count": 88,
     "metadata": {},
     "output_type": "execute_result"
    }
   ],
   "source": [
    "list(G.nodes())[0]\n"
   ]
  },
  {
   "cell_type": "code",
   "execution_count": 89,
   "id": "f758a5ac",
   "metadata": {},
   "outputs": [
    {
     "data": {
      "text/plain": [
       "[('cpp_ldf-303', {'title': 'Dataflow III', 'size': 10}),\n",
       " ('cpp_ldf-302', {'title': 'Program Analysis III', 'size': 10}),\n",
       " ('cpp_ldf-401',\n",
       "  {'title': 'Program Analysis IV -- Dangling pointers', 'size': 10}),\n",
       " ('cpp_ldf-403',\n",
       "  {'title': 'Dataflow IV -- Reasoning about Runtime Values', 'size': 10}),\n",
       " ('cpp_ldf-203', {'title': 'Dataflow II', 'size': 10}),\n",
       " ('cpp_ldf-202', {'title': 'Reasoning about Control Flow II', 'size': 10}),\n",
       " ('cpp_ldf-201',\n",
       "  {'title': 'Elements of Syntactical Program Analysis II', 'size': 10}),\n",
       " ('cpp_ldf-103', {'title': 'Dataflow I', 'size': 10}),\n",
       " ('cpp_ldf-102', {'title': 'Reasoning about Control Flow I', 'size': 10}),\n",
       " ('cpp_ldf-101',\n",
       "  {'title': 'Elements of Syntactical Program Analysis I', 'size': 10})]"
      ]
     },
     "execution_count": 89,
     "metadata": {},
     "output_type": "execute_result"
    }
   ],
   "source": [
    "list(G.nodes.items())\n"
   ]
  },
  {
   "cell_type": "code",
   "execution_count": null,
   "id": "71566a4f",
   "metadata": {},
   "outputs": [],
   "source": []
  }
 ],
 "metadata": {
  "kernelspec": {
   "display_name": "Python 3 (ipykernel)",
   "language": "python",
   "name": "python3"
  },
  "language_info": {
   "codemirror_mode": {
    "name": "ipython",
    "version": 3
   },
   "file_extension": ".py",
   "mimetype": "text/x-python",
   "name": "python",
   "nbconvert_exporter": "python",
   "pygments_lexer": "ipython3",
   "version": "3.11.4"
  }
 },
 "nbformat": 4,
 "nbformat_minor": 5
}
