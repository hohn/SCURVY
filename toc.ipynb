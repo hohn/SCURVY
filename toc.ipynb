{
 "cells": [
  {
   "cell_type": "code",
   "execution_count": 79,
   "id": "b60598ee",
   "metadata": {},
   "outputs": [],
   "source": [
    "import networkx as nx\n",
    "G = nx.DiGraph()"
   ]
  },
  {
   "cell_type": "code",
   "execution_count": 80,
   "id": "c1b1e566",
   "metadata": {},
   "outputs": [],
   "source": [
    "    G.add_node(\"cpp_ldf-303\", title = \"Dataflow III\")\n",
    "    G.add_node(\"cpp_ldf-303\", title = \"Reasoning about Integer Sign Conversion\")\n",
    "    G.add_node(\"cpp_ldf-302\", title = \"Program Analysis III\")\n",
    "    G.add_node(\"cpp_ldf-401\", title = \"Program Analysis IV -- Dangling pointers\")\n",
    "    G.add_node(\"cpp_ldf-403\", title = \"Dataflow IV -- Reasoning about Runtime Values\")\n",
    "    G.add_node(\"cpp_ldf-203\", title = \"Dataflow II\")\n",
    "    G.add_node(\"cpp_ldf-303\", title = \"Dataflow III\")\n",
    "    G.add_node(\"cpp_ldf-202\", title = \"Reasoning about Control Flow II\")\n",
    "    G.add_node(\"cpp_ldf-201\", title = \"Elements of Syntactical Program Analysis II\")\n",
    "    G.add_node(\"cpp_ldf-103\", title = \"Dataflow I\")\n",
    "    G.add_node(\"cpp_ldf-102\", title = \"Reasoning about Control Flow I\")\n",
    "    G.add_node(\"cpp_ldf-101\", title = \"Elements of Syntactical Program Analysis I\")\n"
   ]
  },
  {
   "cell_type": "code",
   "execution_count": 81,
   "id": "1cd987bb",
   "metadata": {},
   "outputs": [],
   "source": [
    "pos = nx.nx_agraph.graphviz_layout(G, prog=\"dot\")"
   ]
  },
  {
   "cell_type": "code",
   "execution_count": 82,
   "id": "e707729e",
   "metadata": {},
   "outputs": [],
   "source": [
    "# set defaults\n",
    "G.graph['graph']={'rankdir':'TD', 'fontsize':9}\n",
    "G.graph['node']={'shape':'rect', 'fontsize':9}\n",
    "G.graph['edges']={'arrowsize':'4.0', 'fontsize':9}"
   ]
  },
  {
   "cell_type": "code",
   "execution_count": 83,
   "id": "71181d30",
   "metadata": {},
   "outputs": [],
   "source": [
    "G.add_edge(\"cpp_ldf-101\", \"cpp_ldf-102\")\n",
    "G.add_edge(\"cpp_ldf-101\", \"cpp_ldf-103\")\n",
    "G.add_edge(\"cpp_ldf-101\", \"cpp_ldf-201\")\n",
    "G.add_edge(\"cpp_ldf-102\", \"cpp_ldf-202\")\n",
    "G.add_edge(\"cpp_ldf-103\", \"cpp_ldf-203\")\n",
    "G.add_edge(\"cpp_ldf-203\", \"cpp_ldf-303\")\n",
    "G.add_edge(\"cpp_ldf-303\", \"cpp_ldf-403\")\n",
    "G.add_edge(\"cpp_ldf-201\", \"cpp_ldf-302\")\n",
    "G.add_edge(\"cpp_ldf-202\", \"cpp_ldf-302\")\n",
    "G.add_edge(\"cpp_ldf-203\", \"cpp_ldf-303\")\n",
    "G.add_edge(\"cpp_ldf-302\", \"cpp_ldf-401\")\n",
    "G.add_edge(\"cpp_ldf-303\", \"cpp_ldf-401\")"
   ]
  },
  {
   "cell_type": "code",
   "execution_count": 84,
   "id": "e041f3dc",
   "metadata": {
    "scrolled": false
   },
   "outputs": [
    {
     "data": {
      "image/svg+xml": [
       "<svg xmlns=\"http://www.w3.org/2000/svg\" xmlns:xlink=\"http://www.w3.org/1999/xlink\" width=\"224pt\" height=\"332pt\" viewBox=\"0.00 0.00 223.50 332.00\">\n",
       "<g id=\"graph0\" class=\"graph\" transform=\"scale(1 1) rotate(0) translate(4 328)\">\n",
       "<polygon fill=\"white\" stroke=\"none\" points=\"-4,4 -4,-328 219.5,-328 219.5,4 -4,4\"/>\n",
       "<!-- cpp_ldf&#45;303 -->\n",
       "<g id=\"node1\" class=\"node\">\n",
       "<title>cpp_ldf-303</title>\n",
       "<polygon fill=\"none\" stroke=\"black\" points=\"215.5,-108 156,-108 156,-72 215.5,-72 215.5,-108\"/>\n",
       "<text text-anchor=\"middle\" x=\"185.75\" y=\"-86.7\" font-family=\"Times,serif\" font-size=\"9.00\">cpp_ldf-303</text>\n",
       "</g>\n",
       "<!-- cpp_ldf&#45;401 -->\n",
       "<g id=\"node2\" class=\"node\">\n",
       "<title>cpp_ldf-401</title>\n",
       "<polygon fill=\"none\" stroke=\"black\" points=\"137.5,-36 78,-36 78,0 137.5,0 137.5,-36\"/>\n",
       "<text text-anchor=\"middle\" x=\"107.75\" y=\"-14.7\" font-family=\"Times,serif\" font-size=\"9.00\">cpp_ldf-401</text>\n",
       "</g>\n",
       "<!-- cpp_ldf&#45;303&#45;&gt;cpp_ldf&#45;401 -->\n",
       "<g id=\"edge1\" class=\"edge\">\n",
       "<title>cpp_ldf-303-&gt;cpp_ldf-401</title>\n",
       "<path fill=\"none\" stroke=\"black\" d=\"M166.47,-71.7C157,-63.2 145.43,-52.81 135.07,-43.51\"/>\n",
       "<polygon fill=\"black\" stroke=\"black\" points=\"137.86,-41.42 128.08,-37.35 133.18,-46.63 137.86,-41.42\"/>\n",
       "</g>\n",
       "<!-- cpp_ldf&#45;403 -->\n",
       "<g id=\"node3\" class=\"node\">\n",
       "<title>cpp_ldf-403</title>\n",
       "<polygon fill=\"none\" stroke=\"black\" points=\"215.5,-36 156,-36 156,0 215.5,0 215.5,-36\"/>\n",
       "<text text-anchor=\"middle\" x=\"185.75\" y=\"-14.7\" font-family=\"Times,serif\" font-size=\"9.00\">cpp_ldf-403</text>\n",
       "</g>\n",
       "<!-- cpp_ldf&#45;303&#45;&gt;cpp_ldf&#45;403 -->\n",
       "<g id=\"edge2\" class=\"edge\">\n",
       "<title>cpp_ldf-303-&gt;cpp_ldf-403</title>\n",
       "<path fill=\"none\" stroke=\"black\" d=\"M185.75,-71.7C185.75,-64.24 185.75,-55.32 185.75,-46.97\"/>\n",
       "<polygon fill=\"black\" stroke=\"black\" points=\"189.25,-47.1 185.75,-37.1 182.25,-47.1 189.25,-47.1\"/>\n",
       "</g>\n",
       "<!-- cpp_ldf&#45;302 -->\n",
       "<g id=\"node4\" class=\"node\">\n",
       "<title>cpp_ldf-302</title>\n",
       "<polygon fill=\"none\" stroke=\"black\" points=\"137.5,-108 78,-108 78,-72 137.5,-72 137.5,-108\"/>\n",
       "<text text-anchor=\"middle\" x=\"107.75\" y=\"-86.7\" font-family=\"Times,serif\" font-size=\"9.00\">cpp_ldf-302</text>\n",
       "</g>\n",
       "<!-- cpp_ldf&#45;302&#45;&gt;cpp_ldf&#45;401 -->\n",
       "<g id=\"edge3\" class=\"edge\">\n",
       "<title>cpp_ldf-302-&gt;cpp_ldf-401</title>\n",
       "<path fill=\"none\" stroke=\"black\" d=\"M107.75,-71.7C107.75,-64.24 107.75,-55.32 107.75,-46.97\"/>\n",
       "<polygon fill=\"black\" stroke=\"black\" points=\"111.25,-47.1 107.75,-37.1 104.25,-47.1 111.25,-47.1\"/>\n",
       "</g>\n",
       "<!-- cpp_ldf&#45;203 -->\n",
       "<g id=\"node5\" class=\"node\">\n",
       "<title>cpp_ldf-203</title>\n",
       "<polygon fill=\"none\" stroke=\"black\" points=\"215.5,-180 156,-180 156,-144 215.5,-144 215.5,-180\"/>\n",
       "<text text-anchor=\"middle\" x=\"185.75\" y=\"-158.7\" font-family=\"Times,serif\" font-size=\"9.00\">cpp_ldf-203</text>\n",
       "</g>\n",
       "<!-- cpp_ldf&#45;203&#45;&gt;cpp_ldf&#45;303 -->\n",
       "<g id=\"edge4\" class=\"edge\">\n",
       "<title>cpp_ldf-203-&gt;cpp_ldf-303</title>\n",
       "<path fill=\"none\" stroke=\"black\" d=\"M185.75,-143.7C185.75,-136.24 185.75,-127.32 185.75,-118.97\"/>\n",
       "<polygon fill=\"black\" stroke=\"black\" points=\"189.25,-119.1 185.75,-109.1 182.25,-119.1 189.25,-119.1\"/>\n",
       "</g>\n",
       "<!-- cpp_ldf&#45;202 -->\n",
       "<g id=\"node6\" class=\"node\">\n",
       "<title>cpp_ldf-202</title>\n",
       "<polygon fill=\"none\" stroke=\"black\" points=\"137.5,-180 78,-180 78,-144 137.5,-144 137.5,-180\"/>\n",
       "<text text-anchor=\"middle\" x=\"107.75\" y=\"-158.7\" font-family=\"Times,serif\" font-size=\"9.00\">cpp_ldf-202</text>\n",
       "</g>\n",
       "<!-- cpp_ldf&#45;202&#45;&gt;cpp_ldf&#45;302 -->\n",
       "<g id=\"edge5\" class=\"edge\">\n",
       "<title>cpp_ldf-202-&gt;cpp_ldf-302</title>\n",
       "<path fill=\"none\" stroke=\"black\" d=\"M107.75,-143.7C107.75,-136.24 107.75,-127.32 107.75,-118.97\"/>\n",
       "<polygon fill=\"black\" stroke=\"black\" points=\"111.25,-119.1 107.75,-109.1 104.25,-119.1 111.25,-119.1\"/>\n",
       "</g>\n",
       "<!-- cpp_ldf&#45;201 -->\n",
       "<g id=\"node7\" class=\"node\">\n",
       "<title>cpp_ldf-201</title>\n",
       "<polygon fill=\"none\" stroke=\"black\" points=\"59.5,-180 0,-180 0,-144 59.5,-144 59.5,-180\"/>\n",
       "<text text-anchor=\"middle\" x=\"29.75\" y=\"-158.7\" font-family=\"Times,serif\" font-size=\"9.00\">cpp_ldf-201</text>\n",
       "</g>\n",
       "<!-- cpp_ldf&#45;201&#45;&gt;cpp_ldf&#45;302 -->\n",
       "<g id=\"edge6\" class=\"edge\">\n",
       "<title>cpp_ldf-201-&gt;cpp_ldf-302</title>\n",
       "<path fill=\"none\" stroke=\"black\" d=\"M49.03,-143.7C58.5,-135.2 70.07,-124.81 80.43,-115.51\"/>\n",
       "<polygon fill=\"black\" stroke=\"black\" points=\"82.32,-118.63 87.42,-109.35 77.64,-113.42 82.32,-118.63\"/>\n",
       "</g>\n",
       "<!-- cpp_ldf&#45;103 -->\n",
       "<g id=\"node8\" class=\"node\">\n",
       "<title>cpp_ldf-103</title>\n",
       "<polygon fill=\"none\" stroke=\"black\" points=\"215.5,-252 156,-252 156,-216 215.5,-216 215.5,-252\"/>\n",
       "<text text-anchor=\"middle\" x=\"185.75\" y=\"-230.7\" font-family=\"Times,serif\" font-size=\"9.00\">cpp_ldf-103</text>\n",
       "</g>\n",
       "<!-- cpp_ldf&#45;103&#45;&gt;cpp_ldf&#45;203 -->\n",
       "<g id=\"edge7\" class=\"edge\">\n",
       "<title>cpp_ldf-103-&gt;cpp_ldf-203</title>\n",
       "<path fill=\"none\" stroke=\"black\" d=\"M185.75,-215.7C185.75,-208.24 185.75,-199.32 185.75,-190.97\"/>\n",
       "<polygon fill=\"black\" stroke=\"black\" points=\"189.25,-191.1 185.75,-181.1 182.25,-191.1 189.25,-191.1\"/>\n",
       "</g>\n",
       "<!-- cpp_ldf&#45;102 -->\n",
       "<g id=\"node9\" class=\"node\">\n",
       "<title>cpp_ldf-102</title>\n",
       "<polygon fill=\"none\" stroke=\"black\" points=\"137.5,-252 78,-252 78,-216 137.5,-216 137.5,-252\"/>\n",
       "<text text-anchor=\"middle\" x=\"107.75\" y=\"-230.7\" font-family=\"Times,serif\" font-size=\"9.00\">cpp_ldf-102</text>\n",
       "</g>\n",
       "<!-- cpp_ldf&#45;102&#45;&gt;cpp_ldf&#45;202 -->\n",
       "<g id=\"edge8\" class=\"edge\">\n",
       "<title>cpp_ldf-102-&gt;cpp_ldf-202</title>\n",
       "<path fill=\"none\" stroke=\"black\" d=\"M107.75,-215.7C107.75,-208.24 107.75,-199.32 107.75,-190.97\"/>\n",
       "<polygon fill=\"black\" stroke=\"black\" points=\"111.25,-191.1 107.75,-181.1 104.25,-191.1 111.25,-191.1\"/>\n",
       "</g>\n",
       "<!-- cpp_ldf&#45;101 -->\n",
       "<g id=\"node10\" class=\"node\">\n",
       "<title>cpp_ldf-101</title>\n",
       "<polygon fill=\"none\" stroke=\"black\" points=\"137.5,-324 78,-324 78,-288 137.5,-288 137.5,-324\"/>\n",
       "<text text-anchor=\"middle\" x=\"107.75\" y=\"-302.7\" font-family=\"Times,serif\" font-size=\"9.00\">cpp_ldf-101</text>\n",
       "</g>\n",
       "<!-- cpp_ldf&#45;101&#45;&gt;cpp_ldf&#45;201 -->\n",
       "<g id=\"edge9\" class=\"edge\">\n",
       "<title>cpp_ldf-101-&gt;cpp_ldf-201</title>\n",
       "<path fill=\"none\" stroke=\"black\" d=\"M93.36,-287.52C85.51,-277.5 75.95,-264.47 68.75,-252 57.31,-232.19 47.04,-208.39 39.92,-190.39\"/>\n",
       "<polygon fill=\"black\" stroke=\"black\" points=\"42.88,-189.34 36.01,-181.28 36.35,-191.86 42.88,-189.34\"/>\n",
       "</g>\n",
       "<!-- cpp_ldf&#45;101&#45;&gt;cpp_ldf&#45;103 -->\n",
       "<g id=\"edge10\" class=\"edge\">\n",
       "<title>cpp_ldf-101-&gt;cpp_ldf-103</title>\n",
       "<path fill=\"none\" stroke=\"black\" d=\"M127.03,-287.7C136.5,-279.2 148.07,-268.81 158.43,-259.51\"/>\n",
       "<polygon fill=\"black\" stroke=\"black\" points=\"160.32,-262.63 165.42,-253.35 155.64,-257.42 160.32,-262.63\"/>\n",
       "</g>\n",
       "<!-- cpp_ldf&#45;101&#45;&gt;cpp_ldf&#45;102 -->\n",
       "<g id=\"edge11\" class=\"edge\">\n",
       "<title>cpp_ldf-101-&gt;cpp_ldf-102</title>\n",
       "<path fill=\"none\" stroke=\"black\" d=\"M107.75,-287.7C107.75,-280.24 107.75,-271.32 107.75,-262.97\"/>\n",
       "<polygon fill=\"black\" stroke=\"black\" points=\"111.25,-263.1 107.75,-253.1 104.25,-263.1 111.25,-263.1\"/>\n",
       "</g>\n",
       "</g>\n",
       "</svg>"
      ],
      "text/plain": [
       "<IPython.core.display.SVG object>"
      ]
     },
     "metadata": {},
     "output_type": "display_data"
    }
   ],
   "source": [
    "from IPython.display import SVG, display\n",
    "\n",
    "def draw(graph):\n",
    "    svg = nx.nx_agraph.to_agraph(graph).draw(prog='dot',format='svg')\n",
    "    display(SVG(svg))\n",
    "    \n",
    "draw(G)"
   ]
  },
  {
   "cell_type": "code",
   "execution_count": 96,
   "id": "6af39b97",
   "metadata": {
    "scrolled": false
   },
   "outputs": [
    {
     "data": {
      "image/svg+xml": [
       "<svg xmlns=\"http://www.w3.org/2000/svg\" xmlns:xlink=\"http://www.w3.org/1999/xlink\" width=\"522pt\" height=\"332pt\" viewBox=\"0.00 0.00 521.50 332.00\">\n",
       "<g id=\"graph0\" class=\"graph\" transform=\"scale(1 1) rotate(0) translate(4 328)\">\n",
       "<polygon fill=\"white\" stroke=\"none\" points=\"-4,4 -4,-328 517.5,-328 517.5,4 -4,4\"/>\n",
       "<!-- 303:\\n Dataflow III -->\n",
       "<g id=\"node1\" class=\"node\">\n",
       "<title>303:\\n Dataflow III</title>\n",
       "<polygon fill=\"none\" stroke=\"black\" points=\"408.75,-108 346.25,-108 346.25,-72 408.75,-72 408.75,-108\"/>\n",
       "<text text-anchor=\"middle\" x=\"377.5\" y=\"-91.95\" font-family=\"Times,serif\" font-size=\"9.00\">303:</text>\n",
       "<text text-anchor=\"middle\" x=\"377.5\" y=\"-81.45\" font-family=\"Times,serif\" font-size=\"9.00\"> Dataflow III</text>\n",
       "</g>\n",
       "<!-- 401:\\n Program Analysis IV &#45;&#45; Dangling pointers -->\n",
       "<g id=\"node2\" class=\"node\">\n",
       "<title>401:\\n Program Analysis IV -- Dangling pointers</title>\n",
       "<polygon fill=\"none\" stroke=\"black\" points=\"305.25,-36 137.75,-36 137.75,0 305.25,0 305.25,-36\"/>\n",
       "<text text-anchor=\"middle\" x=\"221.5\" y=\"-19.95\" font-family=\"Times,serif\" font-size=\"9.00\">401:</text>\n",
       "<text text-anchor=\"middle\" x=\"221.5\" y=\"-9.45\" font-family=\"Times,serif\" font-size=\"9.00\"> Program Analysis IV -- Dangling pointers</text>\n",
       "</g>\n",
       "<!-- 303:\\n Dataflow III&#45;&gt;401:\\n Program Analysis IV &#45;&#45; Dangling pointers -->\n",
       "<g id=\"edge1\" class=\"edge\">\n",
       "<title>303:\\n Dataflow III-&gt;401:\\n Program Analysis IV -- Dangling pointers</title>\n",
       "<path fill=\"none\" stroke=\"black\" d=\"M345.93,-74.83C324.26,-65.11 295.06,-52.01 270.4,-40.94\"/>\n",
       "<polygon fill=\"black\" stroke=\"black\" points=\"272.05,-37.4 261.49,-36.5 269.18,-43.78 272.05,-37.4\"/>\n",
       "</g>\n",
       "<!-- 403:\\n Dataflow IV &#45;&#45; Reasoning about Runtime Values -->\n",
       "<g id=\"node3\" class=\"node\">\n",
       "<title>403:\\n Dataflow IV -- Reasoning about Runtime Values</title>\n",
       "<polygon fill=\"none\" stroke=\"black\" points=\"513.5,-36 323.5,-36 323.5,0 513.5,0 513.5,-36\"/>\n",
       "<text text-anchor=\"middle\" x=\"418.5\" y=\"-19.95\" font-family=\"Times,serif\" font-size=\"9.00\">403:</text>\n",
       "<text text-anchor=\"middle\" x=\"418.5\" y=\"-9.45\" font-family=\"Times,serif\" font-size=\"9.00\"> Dataflow IV -- Reasoning about Runtime Values</text>\n",
       "</g>\n",
       "<!-- 303:\\n Dataflow III&#45;&gt;403:\\n Dataflow IV &#45;&#45; Reasoning about Runtime Values -->\n",
       "<g id=\"edge2\" class=\"edge\">\n",
       "<title>303:\\n Dataflow III-&gt;403:\\n Dataflow IV -- Reasoning about Runtime Values</title>\n",
       "<path fill=\"none\" stroke=\"black\" d=\"M387.63,-71.7C392.25,-63.81 397.82,-54.3 402.95,-45.55\"/>\n",
       "<polygon fill=\"black\" stroke=\"black\" points=\"406.45,-47.5 408.48,-37.1 400.41,-43.96 406.45,-47.5\"/>\n",
       "</g>\n",
       "<!-- 302:\\n Program Analysis III -->\n",
       "<g id=\"node4\" class=\"node\">\n",
       "<title>302:\\n Program Analysis III</title>\n",
       "<polygon fill=\"none\" stroke=\"black\" points=\"268.12,-108 174.88,-108 174.88,-72 268.12,-72 268.12,-108\"/>\n",
       "<text text-anchor=\"middle\" x=\"221.5\" y=\"-91.95\" font-family=\"Times,serif\" font-size=\"9.00\">302:</text>\n",
       "<text text-anchor=\"middle\" x=\"221.5\" y=\"-81.45\" font-family=\"Times,serif\" font-size=\"9.00\"> Program Analysis III</text>\n",
       "</g>\n",
       "<!-- 302:\\n Program Analysis III&#45;&gt;401:\\n Program Analysis IV &#45;&#45; Dangling pointers -->\n",
       "<g id=\"edge3\" class=\"edge\">\n",
       "<title>302:\\n Program Analysis III-&gt;401:\\n Program Analysis IV -- Dangling pointers</title>\n",
       "<path fill=\"none\" stroke=\"black\" d=\"M221.5,-71.7C221.5,-64.24 221.5,-55.32 221.5,-46.97\"/>\n",
       "<polygon fill=\"black\" stroke=\"black\" points=\"225,-47.1 221.5,-37.1 218,-47.1 225,-47.1\"/>\n",
       "</g>\n",
       "<!-- 203:\\n Dataflow II -->\n",
       "<g id=\"node5\" class=\"node\">\n",
       "<title>203:\\n Dataflow II</title>\n",
       "<polygon fill=\"none\" stroke=\"black\" points=\"407.25,-180 347.75,-180 347.75,-144 407.25,-144 407.25,-180\"/>\n",
       "<text text-anchor=\"middle\" x=\"377.5\" y=\"-163.95\" font-family=\"Times,serif\" font-size=\"9.00\">203:</text>\n",
       "<text text-anchor=\"middle\" x=\"377.5\" y=\"-153.45\" font-family=\"Times,serif\" font-size=\"9.00\"> Dataflow II</text>\n",
       "</g>\n",
       "<!-- 203:\\n Dataflow II&#45;&gt;303:\\n Dataflow III -->\n",
       "<g id=\"edge4\" class=\"edge\">\n",
       "<title>203:\\n Dataflow II-&gt;303:\\n Dataflow III</title>\n",
       "<path fill=\"none\" stroke=\"black\" d=\"M377.5,-143.7C377.5,-136.24 377.5,-127.32 377.5,-118.97\"/>\n",
       "<polygon fill=\"black\" stroke=\"black\" points=\"381,-119.1 377.5,-109.1 374,-119.1 381,-119.1\"/>\n",
       "</g>\n",
       "<!-- 202:\\n Reasoning about Control Flow II -->\n",
       "<g id=\"node6\" class=\"node\">\n",
       "<title>202:\\n Reasoning about Control Flow II</title>\n",
       "<polygon fill=\"none\" stroke=\"black\" points=\"329.5,-180 193.5,-180 193.5,-144 329.5,-144 329.5,-180\"/>\n",
       "<text text-anchor=\"middle\" x=\"261.5\" y=\"-163.95\" font-family=\"Times,serif\" font-size=\"9.00\">202:</text>\n",
       "<text text-anchor=\"middle\" x=\"261.5\" y=\"-153.45\" font-family=\"Times,serif\" font-size=\"9.00\"> Reasoning about Control Flow II</text>\n",
       "</g>\n",
       "<!-- 202:\\n Reasoning about Control Flow II&#45;&gt;302:\\n Program Analysis III -->\n",
       "<g id=\"edge5\" class=\"edge\">\n",
       "<title>202:\\n Reasoning about Control Flow II-&gt;302:\\n Program Analysis III</title>\n",
       "<path fill=\"none\" stroke=\"black\" d=\"M251.61,-143.7C247.11,-135.81 241.67,-126.3 236.67,-117.55\"/>\n",
       "<polygon fill=\"black\" stroke=\"black\" points=\"239.27,-116.05 231.27,-109.1 233.2,-119.52 239.27,-116.05\"/>\n",
       "</g>\n",
       "<!-- 201:\\n Elements of Syntactical Program Analysis II -->\n",
       "<g id=\"node7\" class=\"node\">\n",
       "<title>201:\\n Elements of Syntactical Program Analysis II</title>\n",
       "<polygon fill=\"none\" stroke=\"black\" points=\"175,-180 0,-180 0,-144 175,-144 175,-180\"/>\n",
       "<text text-anchor=\"middle\" x=\"87.5\" y=\"-163.95\" font-family=\"Times,serif\" font-size=\"9.00\">201:</text>\n",
       "<text text-anchor=\"middle\" x=\"87.5\" y=\"-153.45\" font-family=\"Times,serif\" font-size=\"9.00\"> Elements of Syntactical Program Analysis II</text>\n",
       "</g>\n",
       "<!-- 201:\\n Elements of Syntactical Program Analysis II&#45;&gt;302:\\n Program Analysis III -->\n",
       "<g id=\"edge6\" class=\"edge\">\n",
       "<title>201:\\n Elements of Syntactical Program Analysis II-&gt;302:\\n Program Analysis III</title>\n",
       "<path fill=\"none\" stroke=\"black\" d=\"M120.97,-143.52C138.53,-134.34 160.23,-123.01 178.97,-113.22\"/>\n",
       "<polygon fill=\"black\" stroke=\"black\" points=\"180.22,-115.99 187.46,-108.26 176.97,-109.79 180.22,-115.99\"/>\n",
       "</g>\n",
       "<!-- 103:\\n Dataflow I -->\n",
       "<g id=\"node8\" class=\"node\">\n",
       "<title>103:\\n Dataflow I</title>\n",
       "<polygon fill=\"none\" stroke=\"black\" points=\"403.75,-252 347.25,-252 347.25,-216 403.75,-216 403.75,-252\"/>\n",
       "<text text-anchor=\"middle\" x=\"375.5\" y=\"-235.95\" font-family=\"Times,serif\" font-size=\"9.00\">103:</text>\n",
       "<text text-anchor=\"middle\" x=\"375.5\" y=\"-225.45\" font-family=\"Times,serif\" font-size=\"9.00\"> Dataflow I</text>\n",
       "</g>\n",
       "<!-- 103:\\n Dataflow I&#45;&gt;203:\\n Dataflow II -->\n",
       "<g id=\"edge7\" class=\"edge\">\n",
       "<title>103:\\n Dataflow I-&gt;203:\\n Dataflow II</title>\n",
       "<path fill=\"none\" stroke=\"black\" d=\"M375.99,-215.7C376.21,-208.24 376.46,-199.32 376.7,-190.97\"/>\n",
       "<polygon fill=\"black\" stroke=\"black\" points=\"380.22,-191.2 377.01,-181.1 373.23,-191 380.22,-191.2\"/>\n",
       "</g>\n",
       "<!-- 102:\\n Reasoning about Control Flow I -->\n",
       "<g id=\"node9\" class=\"node\">\n",
       "<title>102:\\n Reasoning about Control Flow I</title>\n",
       "<polygon fill=\"none\" stroke=\"black\" points=\"328,-252 195,-252 195,-216 328,-216 328,-252\"/>\n",
       "<text text-anchor=\"middle\" x=\"261.5\" y=\"-235.95\" font-family=\"Times,serif\" font-size=\"9.00\">102:</text>\n",
       "<text text-anchor=\"middle\" x=\"261.5\" y=\"-225.45\" font-family=\"Times,serif\" font-size=\"9.00\"> Reasoning about Control Flow I</text>\n",
       "</g>\n",
       "<!-- 102:\\n Reasoning about Control Flow I&#45;&gt;202:\\n Reasoning about Control Flow II -->\n",
       "<g id=\"edge8\" class=\"edge\">\n",
       "<title>102:\\n Reasoning about Control Flow I-&gt;202:\\n Reasoning about Control Flow II</title>\n",
       "<path fill=\"none\" stroke=\"black\" d=\"M261.5,-215.7C261.5,-208.24 261.5,-199.32 261.5,-190.97\"/>\n",
       "<polygon fill=\"black\" stroke=\"black\" points=\"265,-191.1 261.5,-181.1 258,-191.1 265,-191.1\"/>\n",
       "</g>\n",
       "<!-- 101:\\n Elements of Syntactical Program Analysis I -->\n",
       "<g id=\"node10\" class=\"node\">\n",
       "<title>101:\\n Elements of Syntactical Program Analysis I</title>\n",
       "<polygon fill=\"none\" stroke=\"black\" points=\"347.5,-324 175.5,-324 175.5,-288 347.5,-288 347.5,-324\"/>\n",
       "<text text-anchor=\"middle\" x=\"261.5\" y=\"-307.95\" font-family=\"Times,serif\" font-size=\"9.00\">101:</text>\n",
       "<text text-anchor=\"middle\" x=\"261.5\" y=\"-297.45\" font-family=\"Times,serif\" font-size=\"9.00\"> Elements of Syntactical Program Analysis I</text>\n",
       "</g>\n",
       "<!-- 101:\\n Elements of Syntactical Program Analysis I&#45;&gt;201:\\n Elements of Syntactical Program Analysis II -->\n",
       "<g id=\"edge9\" class=\"edge\">\n",
       "<title>101:\\n Elements of Syntactical Program Analysis I-&gt;201:\\n Elements of Syntactical Program Analysis II</title>\n",
       "<path fill=\"none\" stroke=\"black\" d=\"M234.87,-287.65C220.01,-277.67 201.35,-264.64 185.5,-252 159.87,-231.56 132.38,-206.27 113.06,-187.88\"/>\n",
       "<polygon fill=\"black\" stroke=\"black\" points=\"115.95,-185.85 106.31,-181.46 111.11,-190.9 115.95,-185.85\"/>\n",
       "</g>\n",
       "<!-- 101:\\n Elements of Syntactical Program Analysis I&#45;&gt;103:\\n Dataflow I -->\n",
       "<g id=\"edge10\" class=\"edge\">\n",
       "<title>101:\\n Elements of Syntactical Program Analysis I-&gt;103:\\n Dataflow I</title>\n",
       "<path fill=\"none\" stroke=\"black\" d=\"M289.97,-287.52C304.64,-278.51 322.7,-267.42 338.43,-257.76\"/>\n",
       "<polygon fill=\"black\" stroke=\"black\" points=\"339.7,-260.48 346.39,-252.26 336.04,-254.51 339.7,-260.48\"/>\n",
       "</g>\n",
       "<!-- 101:\\n Elements of Syntactical Program Analysis I&#45;&gt;102:\\n Reasoning about Control Flow I -->\n",
       "<g id=\"edge11\" class=\"edge\">\n",
       "<title>101:\\n Elements of Syntactical Program Analysis I-&gt;102:\\n Reasoning about Control Flow I</title>\n",
       "<path fill=\"none\" stroke=\"black\" d=\"M261.5,-287.7C261.5,-280.24 261.5,-271.32 261.5,-262.97\"/>\n",
       "<polygon fill=\"black\" stroke=\"black\" points=\"265,-263.1 261.5,-253.1 258,-263.1 265,-263.1\"/>\n",
       "</g>\n",
       "</g>\n",
       "</svg>"
      ],
      "text/plain": [
       "<IPython.core.display.SVG object>"
      ]
     },
     "metadata": {},
     "output_type": "display_data"
    }
   ],
   "source": [
    "r = dict([name, name[-3:None]+\":\\\\n \"+dd['title']] for (name, dd) in list(G.nodes.items()))\n",
    "G1 = nx.relabel_nodes(G, r)\n",
    "draw(G1)"
   ]
  },
  {
   "cell_type": "code",
   "execution_count": 86,
   "id": "a05800ee",
   "metadata": {
    "scrolled": false
   },
   "outputs": [
    {
     "name": "stdout",
     "output_type": "stream",
     "text": [
      "Local cdn resources have problems on chrome/safari when used in jupyter-notebook. \n"
     ]
    },
    {
     "data": {
      "text/html": [
       "\n",
       "        <iframe\n",
       "            width=\"100%\"\n",
       "            height=\"600px\"\n",
       "            src=\"G.html\"\n",
       "            frameborder=\"0\"\n",
       "            allowfullscreen\n",
       "            \n",
       "        ></iframe>\n",
       "        "
      ],
      "text/plain": [
       "<IPython.lib.display.IFrame at 0x10c90b250>"
      ]
     },
     "execution_count": 86,
     "metadata": {},
     "output_type": "execute_result"
    }
   ],
   "source": [
    "from pyvis import network as net\n",
    "\n",
    "pg = net.Network(directed=True, notebook=True)\n",
    "\n",
    "pg.from_nx(G)\n",
    "\n",
    "pg.show(\"G.html\")"
   ]
  },
  {
   "cell_type": "code",
   "execution_count": 87,
   "id": "e9da0580",
   "metadata": {},
   "outputs": [
    {
     "name": "stdout",
     "output_type": "stream",
     "text": [
      "Local cdn resources have problems on chrome/safari when used in jupyter-notebook. \n"
     ]
    },
    {
     "data": {
      "text/html": [
       "\n",
       "        <iframe\n",
       "            width=\"100%\"\n",
       "            height=\"600px\"\n",
       "            src=\"G.html\"\n",
       "            frameborder=\"0\"\n",
       "            allowfullscreen\n",
       "            \n",
       "        ></iframe>\n",
       "        "
      ],
      "text/plain": [
       "<IPython.lib.display.IFrame at 0x10c8c0d90>"
      ]
     },
     "execution_count": 87,
     "metadata": {},
     "output_type": "execute_result"
    }
   ],
   "source": [
    "pg1 = net.Network(directed=True, notebook=True)\n",
    "\n",
    "pg1.from_nx(G1)\n",
    "\n",
    "pg1.show(\"G.html\")"
   ]
  },
  {
   "cell_type": "code",
   "execution_count": 88,
   "id": "2e3a4d9c",
   "metadata": {},
   "outputs": [
    {
     "data": {
      "text/plain": [
       "'cpp_ldf-303'"
      ]
     },
     "execution_count": 88,
     "metadata": {},
     "output_type": "execute_result"
    }
   ],
   "source": [
    "list(G.nodes())[0]\n"
   ]
  },
  {
   "cell_type": "code",
   "execution_count": 89,
   "id": "f758a5ac",
   "metadata": {},
   "outputs": [
    {
     "data": {
      "text/plain": [
       "[('cpp_ldf-303', {'title': 'Dataflow III', 'size': 10}),\n",
       " ('cpp_ldf-302', {'title': 'Program Analysis III', 'size': 10}),\n",
       " ('cpp_ldf-401',\n",
       "  {'title': 'Program Analysis IV -- Dangling pointers', 'size': 10}),\n",
       " ('cpp_ldf-403',\n",
       "  {'title': 'Dataflow IV -- Reasoning about Runtime Values', 'size': 10}),\n",
       " ('cpp_ldf-203', {'title': 'Dataflow II', 'size': 10}),\n",
       " ('cpp_ldf-202', {'title': 'Reasoning about Control Flow II', 'size': 10}),\n",
       " ('cpp_ldf-201',\n",
       "  {'title': 'Elements of Syntactical Program Analysis II', 'size': 10}),\n",
       " ('cpp_ldf-103', {'title': 'Dataflow I', 'size': 10}),\n",
       " ('cpp_ldf-102', {'title': 'Reasoning about Control Flow I', 'size': 10}),\n",
       " ('cpp_ldf-101',\n",
       "  {'title': 'Elements of Syntactical Program Analysis I', 'size': 10})]"
      ]
     },
     "execution_count": 89,
     "metadata": {},
     "output_type": "execute_result"
    }
   ],
   "source": [
    "list(G.nodes.items())\n"
   ]
  },
  {
   "cell_type": "code",
   "execution_count": null,
   "id": "71566a4f",
   "metadata": {},
   "outputs": [],
   "source": []
  }
 ],
 "metadata": {
  "kernelspec": {
   "display_name": "Python 3 (ipykernel)",
   "language": "python",
   "name": "python3"
  },
  "language_info": {
   "codemirror_mode": {
    "name": "ipython",
    "version": 3
   },
   "file_extension": ".py",
   "mimetype": "text/x-python",
   "name": "python",
   "nbconvert_exporter": "python",
   "pygments_lexer": "ipython3",
   "version": "3.11.4"
  }
 },
 "nbformat": 4,
 "nbformat_minor": 5
}
